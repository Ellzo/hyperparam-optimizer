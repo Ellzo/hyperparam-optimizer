{
 "cells": [
  {
   "cell_type": "markdown",
   "id": "62f758e5",
   "metadata": {},
   "source": [
    "### Libraries"
   ]
  },
  {
   "cell_type": "code",
   "execution_count": null,
   "id": "022cdbef",
   "metadata": {},
   "outputs": [],
   "source": [
    "import torch\n",
    "import torch.nn as nn\n",
    "import torch.optim as optim\n",
    "from torch.utils.data import DataLoader, TensorDataset\n",
    "import numpy as np"
   ]
  },
  {
   "cell_type": "markdown",
   "id": "847d3ab3",
   "metadata": {},
   "source": [
    "#### Neural network architecture"
   ]
  },
  {
   "cell_type": "code",
   "execution_count": null,
   "id": "174ef9a2",
   "metadata": {},
   "outputs": [],
   "source": [
    "class NN(nn.Module):\n",
    "    def __init__(self):\n",
    "        super(NN, self).__init__()\n",
    "        self.fc1 = nn.Linear(28 * 28, 256)\n",
    "        self.fc2 = nn.Linear(256, 64)\n",
    "        self.fc3 = nn.Linear(64, 10)\n",
    "\n",
    "    def forward(self, x):\n",
    "        x = x.view(-1, 28 * 28)\n",
    "        x = torch.relu(self.fc1(x))\n",
    "        x = torch.relu(self.fc2(x))\n",
    "        x = self.fc3(x)\n",
    "        return x"
   ]
  },
  {
   "cell_type": "markdown",
   "id": "28af3412",
   "metadata": {},
   "source": [
    "### Data Import"
   ]
  },
  {
   "cell_type": "code",
   "execution_count": null,
   "id": "ffdadd62",
   "metadata": {},
   "outputs": [],
   "source": [
    "from torchvision import datasets, transforms\n",
    "\n",
    "transform = transforms.Compose([transforms.ToTensor(), transforms.Normalize((0.5,), (0.5,))])\n",
    "\n",
    "train_data = datasets.MNIST(root='./data', train=True, download=True, transform=transform)\n",
    "val_data = datasets.MNIST(root='./data', train=False, download=True, transform=transform)"
   ]
  },
  {
   "cell_type": "markdown",
   "id": "a4bf6104",
   "metadata": {},
   "source": [
    "### Modeling + Hyperparameter Optimization"
   ]
  },
  {
   "cell_type": "code",
   "execution_count": null,
   "id": "993cbeb6",
   "metadata": {},
   "outputs": [],
   "source": [
    "from genetic import GeneticTraining\n",
    "\n",
    "hyperparams = {\n",
    "    \"lr\": {\"type\": \"exp\", \"min\": 1e-3, \"max\": 1e-2},\n",
    "    \"batch_size\": {\"type\": \"int\", \"min\": 32, \"max\": 128},\n",
    "    \"n_epochs\": {\"type\": \"int\", \"min\": 4, \"max\": 8},\n",
    "}\n",
    "\n",
    "tuner = GeneticTraining(train_data, val_data, NN)\n",
    "\n",
    "best_hyperparams = tuner.run_evolution(\n",
    "    population_size=8,\n",
    "    num_generations=4,\n",
    "    hyperparams=hyperparams,\n",
    "    crossover_rate=0.5,\n",
    "    mutation_rate=0.2,\n",
    "    mutation_std_factor=8,\n",
    "    verbose=1\n",
    ")\n",
    "\n",
    "print(\"Best hyperparameters found:\", best_hyperparams)"
   ]
  },
  {
   "cell_type": "code",
   "execution_count": null,
   "id": "26cb364a",
   "metadata": {},
   "outputs": [],
   "source": [
    "import pandas as pd\n",
    "\n",
    "df = pd.DataFrame(list(tuner.fitness_map.values()))\n",
    "\n",
    "df.sort_values('val_accuracy', ascending=False)"
   ]
  }
 ],
 "metadata": {
  "kernelspec": {
   "display_name": "Python 3 (ipykernel)",
   "language": "python",
   "name": "python3"
  },
  "language_info": {
   "codemirror_mode": {
    "name": "ipython",
    "version": 3
   },
   "file_extension": ".py",
   "mimetype": "text/x-python",
   "name": "python",
   "nbconvert_exporter": "python",
   "pygments_lexer": "ipython3",
   "version": "3.11.9"
  }
 },
 "nbformat": 4,
 "nbformat_minor": 5
}
